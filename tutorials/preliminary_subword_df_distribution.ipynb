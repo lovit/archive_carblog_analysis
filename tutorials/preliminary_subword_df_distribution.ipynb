{
 "cells": [
  {
   "cell_type": "markdown",
   "metadata": {},
   "source": [
    "config.py 에서는 carblog analyzer 를 import 할 수 있도록 path 를 추가하며, soynlp 가 설치되어 있는지 확인합니다. 만약 soynlp 가 설치되지 않았다면 설치법을 error message 로 출력합니다."
   ]
  },
  {
   "cell_type": "code",
   "execution_count": 1,
   "metadata": {},
   "outputs": [
    {
     "name": "stdout",
     "output_type": "stream",
     "text": [
      "Available soynlp == 0.0.492\n",
      "Available carblog_analyzer == 0.0.1\n",
      "Available carblog_dataset\n"
     ]
    }
   ],
   "source": [
    "import config"
   ]
  },
  {
   "cell_type": "markdown",
   "metadata": {},
   "source": [
    "L parts 중에서 단어스럽지 않은 subwords 를 제거하기 위해 droprate 를 이용하여 word scoring 을 합니다."
   ]
  },
  {
   "cell_type": "code",
   "execution_count": 2,
   "metadata": {},
   "outputs": [],
   "source": [
    "from carblog_analyzer.tokenizer import word_score_by_droprate\n",
    "from carblog_dataset import load_text\n",
    "\n",
    "texts = load_text(category=10) # 소나타\n",
    "word_scores = word_score_by_droprate(texts)"
   ]
  },
  {
   "cell_type": "markdown",
   "metadata": {},
   "source": [
    "소나타 블로그에서 학습된 subwords 의 word score 입니다. '엔진'과 '엔진오일'은 단어 점수가 높지만, '엔진오'는 단어 점수가 낮습니다."
   ]
  },
  {
   "cell_type": "code",
   "execution_count": 25,
   "metadata": {},
   "outputs": [
    {
     "name": "stdout",
     "output_type": "stream",
     "text": [
      "소\t: 0\n",
      "소나\t: 0.012827566134373525\n",
      "소나타\t: 0.9532185399984898\n",
      "엔진\t: 0.6726685824508916\n",
      "엔진오\t: 0.002477390802385959\n",
      "엔진오일\t: 0.9162346586936079\n",
      "잔류제거\t: 0.8985024958402662\n",
      "클래식\t: 0.9366240097501524\n"
     ]
    }
   ],
   "source": [
    "for word in '소 소나 소나타 엔진 엔진오 엔진오일 잔류제거 클래식'.split():\n",
    "    print('{}\\t: {}'.format(word, word_scores.get(word, 0)))"
   ]
  },
  {
   "cell_type": "markdown",
   "metadata": {},
   "source": [
    "Subword tokenizer 는 L parts 의 모든 subwords 중에서 dictionary 에 존재하는 단어만 선택하는 토크나이저입니다. 한 어절에서 overlap 되는 subwords 들이 return 됩니다."
   ]
  },
  {
   "cell_type": "code",
   "execution_count": 81,
   "metadata": {},
   "outputs": [
    {
     "data": {
      "text/plain": [
       "['소나타', '소나타XG', '엔진', '엔진오일']"
      ]
     },
     "execution_count": 81,
     "metadata": {},
     "output_type": "execute_result"
    }
   ],
   "source": [
    "from carblog_analyzer.tokenizer import SubwordTokenizer\n",
    "\n",
    "subword_tokenizer = SubwordTokenizer({'엔진', '엔진오일', '소나타XG', '소나타'})\n",
    "subword_tokenizer.tokenize('소나타XG의 엔진오일을 교체하는 예시입니다')"
   ]
  },
  {
   "cell_type": "markdown",
   "metadata": {},
   "source": [
    "모든 카테고리에서 최소 빈도수가 50 이상이며, droprate 가 0.1 보다 큰 subwords 를 학습하는 함수를 작성하여 모든 카테고리에 적용할 수 있는 subword to idx 를 학습합니다. 시간이 오래 걸리며, 약 4 GB 의 메모리를 필요로 합니다."
   ]
  },
  {
   "cell_type": "code",
   "execution_count": 27,
   "metadata": {},
   "outputs": [
    {
     "name": "stdout",
     "output_type": "stream",
     "text": [
      "Extract 36085 subwords from [A6] category. Num of all subwords = 36085\n",
      "Extract 55982 subwords from [BMW5] category. Num of all subwords = 66434\n",
      "Extract 48823 subwords from [BMW] category. Num of all subwords = 73351\n",
      "Extract 33713 subwords from [K3] category. Num of all subwords = 79115\n",
      "Extract 65179 subwords from [K5] category. Num of all subwords = 97831\n",
      "Extract 47256 subwords from [K7] category. Num of all subwords = 100850\n",
      "Extract 5905 subwords from [QM3] category. Num of all subwords = 100958\n",
      "Extract 51284 subwords from [그랜저] category. Num of all subwords = 109962\n",
      "Extract 18030 subwords from [벤츠E] category. Num of all subwords = 110284\n",
      "Extract 16468 subwords from [산타페] category. Num of all subwords = 111473\n",
      "Extract 61942 subwords from [소나타] category. Num of all subwords = 123194\n",
      "Extract 34413 subwords from [스포티지] category. Num of all subwords = 124146\n",
      "Extract 34932 subwords from [싼타페] category. Num of all subwords = 125221\n",
      "Extract 32279 subwords from [쏘나타] category. Num of all subwords = 125909\n",
      "Extract 32566 subwords from [쏘렌토] category. Num of all subwords = 126706\n",
      "Extract 43126 subwords from [아반떼] category. Num of all subwords = 128379\n",
      "Extract 8335 subwords from [아반테] category. Num of all subwords = 128437\n",
      "Extract 40757 subwords from [제네시스] category. Num of all subwords = 130325\n",
      "Extract 13686 subwords from [코란도C] category. Num of all subwords = 130476\n",
      "Extract 28764 subwords from [투싼] category. Num of all subwords = 130756\n",
      "Extract 7963 subwords from [티구안] category. Num of all subwords = 130821\n",
      "Extract 6732 subwords from [티볼리] category. Num of all subwords = 130975\n",
      "Extract 8315 subwords from [파사트] category. Num of all subwords = 131025\n",
      "Extract 17305 subwords from [폭스바겐골프] category. Num of all subwords = 131274\n",
      "Extract 1369 subwords from [현기차] category. Num of all subwords = 131286\n",
      "Extract 65053 subwords from [현대자동차] category. Num of all subwords = 144835\n",
      "Extract 45020 subwords from [현대차] category. Num of all subwords = 150291\n"
     ]
    }
   ],
   "source": [
    "from carblog_dataset import load_text, load_category_index\n",
    "\n",
    "def train_vocabulary_index(min_count=50, min_droprate_wordscore=0.1, verbose=False):\n",
    "    idx_to_category = load_category_index()\n",
    "    num_categories = len(idx_to_category)\n",
    "\n",
    "    subword_dictionary = set()\n",
    "    for c in range(num_categories):\n",
    "        texts = load_text(category=c)\n",
    "        word_scores = word_score_by_droprate(texts, min_count=min_count)\n",
    "        word_scores = {w:s for w,s in word_scores.items() if s >= min_droprate_wordscore}\n",
    "        subword_dictionary.update(word_scores)\n",
    "\n",
    "        if verbose:\n",
    "            args = (len(word_scores), idx_to_category[c], len(subword_dictionary))\n",
    "            print('Extract {} subwords from [{}] category. Num of all subwords = {}'.format(*args))\n",
    "\n",
    "    idx_to_subword = sorted(subword_dictionary)\n",
    "    subword_to_idx = {sub:idx for idx, sub in enumerate(idx_to_subword)}\n",
    "    return idx_to_subword, subword_to_idx\n",
    "\n",
    "idx_to_subword, subword_to_idx = train_vocabulary_index(verbose=True)"
   ]
  },
  {
   "cell_type": "markdown",
   "metadata": {},
   "source": [
    "Subwords 를 학습하였으니, 이를 이용하여 각 카테고리에서 subword 가 등장한 document frequency 를 계산합니다. 이 부분도 시간이 오래 걸리니 각 단계별로 진행 상황을 출력합니다."
   ]
  },
  {
   "cell_type": "code",
   "execution_count": 29,
   "metadata": {},
   "outputs": [
    {
     "name": "stdout",
     "output_type": "stream",
     "text": [
      "Train DF from [A6] category\n",
      "Train DF from [BMW5] category\n",
      "Train DF from [BMW] category\n",
      "Train DF from [K3] category\n",
      "Train DF from [K5] category\n",
      "Train DF from [K7] category\n",
      "Train DF from [QM3] category\n",
      "Train DF from [그랜저] category\n",
      "Train DF from [벤츠E] category\n",
      "Train DF from [산타페] category\n",
      "Train DF from [소나타] category\n",
      "Train DF from [스포티지] category\n",
      "Train DF from [싼타페] category\n",
      "Train DF from [쏘나타] category\n",
      "Train DF from [쏘렌토] category\n",
      "Train DF from [아반떼] category\n",
      "Train DF from [아반테] category\n",
      "Train DF from [제네시스] category\n",
      "Train DF from [코란도C] category\n",
      "Train DF from [투싼] category\n",
      "Train DF from [티구안] category\n",
      "Train DF from [티볼리] category\n",
      "Train DF from [파사트] category\n",
      "Train DF from [폭스바겐골프] category\n",
      "Train DF from [현기차] category\n",
      "Train DF from [현대자동차] category\n",
      "Train DF from [현대차] category\n"
     ]
    }
   ],
   "source": [
    "from collections import defaultdict\n",
    "import numpy as np\n",
    "\n",
    "\n",
    "def compute_document_frequency(documents, subword_to_idx):\n",
    "    n_docs = len(documents)\n",
    "    n_subwords = len(subword_to_idx)\n",
    "    tokenizer = SubwordTokenizer(subword_to_idx)\n",
    "\n",
    "    # count subwords\n",
    "    df = defaultdict(int)\n",
    "    for doc in documents:\n",
    "        subword_set = set(tokenizer.tokenize(doc))\n",
    "        for subword in subword_set:\n",
    "            df[subword] += 1\n",
    "    df = {sub:df_s/n_docs for sub, df_s in df.items()}\n",
    "\n",
    "    # convert dict to as numpy.ndarray\n",
    "    df_ratio = np.zeros(n_subwords)\n",
    "    for sub, ratio in df.items():\n",
    "        df_ratio[subword_to_idx[sub]] = ratio\n",
    "    return df_ratio\n",
    "\n",
    "def subword_df_distribution(subword_to_idx, verbose=False):\n",
    "    idx_to_category = load_category_index()\n",
    "    num_categories = len(idx_to_category)\n",
    "\n",
    "    df_ratios = []\n",
    "    for c in range(num_categories):\n",
    "        texts = load_text(category=c)\n",
    "        df_ratios.append(compute_document_frequency(texts, subword_to_idx))\n",
    "\n",
    "        if verbose:\n",
    "            print('Train DF from [{}] category'.format(idx_to_category[c]))\n",
    "    df_ratios = np.vstack(df_ratios)\n",
    "    return df_ratios\n",
    "\n",
    "df_ratios = subword_df_distribution(subword_to_idx, verbose=True)"
   ]
  },
  {
   "cell_type": "markdown",
   "metadata": {},
   "source": [
    "subword 를 입력하면 각 카테고리별로 subword 가 등장한 문서의 비율을 출력하는 함수를 만듭니다. percentage 와 카테고리 이름을 출력하고, 그 앞에 손쉽게 각 카테고리 별 비율을 비교할 수 있도록 bar 도 출력합니다."
   ]
  },
  {
   "cell_type": "code",
   "execution_count": 82,
   "metadata": {},
   "outputs": [],
   "source": [
    "idx_to_category = load_category_index()\n",
    "\n",
    "def show_df_distribution(subword):\n",
    "    def bar_str(df_i):\n",
    "        bar_len = int(20 * df_i)\n",
    "        return '#' * bar_len + '-' * (20 - bar_len)\n",
    "\n",
    "    subword_idx = subword_to_idx.get(subword, -1)\n",
    "    if subword_idx == -1:\n",
    "        return\n",
    "    df = df_ratios[:,subword_idx].reshape(-1)\n",
    "    bars = df / df.max()\n",
    "\n",
    "    print('Subword = {}'.format(subword))\n",
    "    for i, (df_i, bar_i) in enumerate(zip(df, bars)):\n",
    "        category = idx_to_category[i]\n",
    "        perc = '%.3f' % (100 * df_i)\n",
    "        bar = bar_str(bar_i)\n",
    "        print('[{}]: ({} %)\\t {}'.format(bar, perc, category))"
   ]
  },
  {
   "cell_type": "markdown",
   "metadata": {},
   "source": [
    "클래식 장르 중 하나인 소나타 관련 문서에는 '악장' 뿐 아니라 음악 관련 단어들이 자주 등장합니다."
   ]
  },
  {
   "cell_type": "code",
   "execution_count": 83,
   "metadata": {},
   "outputs": [
    {
     "name": "stdout",
     "output_type": "stream",
     "text": [
      "Subword = 악장\n",
      "[--------------------]: (0.008 %)\t A6\n",
      "[--------------------]: (0.009 %)\t BMW5\n",
      "[--------------------]: (0.005 %)\t BMW\n",
      "[--------------------]: (0.010 %)\t K3\n",
      "[--------------------]: (0.015 %)\t K5\n",
      "[--------------------]: (0.004 %)\t K7\n",
      "[--------------------]: (0.000 %)\t QM3\n",
      "[--------------------]: (0.004 %)\t 그랜저\n",
      "[--------------------]: (0.017 %)\t 벤츠E\n",
      "[--------------------]: (0.034 %)\t 산타페\n",
      "[####################]: (2.729 %)\t 소나타\n",
      "[--------------------]: (0.001 %)\t 스포티지\n",
      "[--------------------]: (0.001 %)\t 싼타페\n",
      "[--------------------]: (0.015 %)\t 쏘나타\n",
      "[--------------------]: (0.002 %)\t 쏘렌토\n",
      "[--------------------]: (0.002 %)\t 아반떼\n",
      "[--------------------]: (0.004 %)\t 아반테\n",
      "[--------------------]: (0.003 %)\t 제네시스\n",
      "[--------------------]: (0.000 %)\t 코란도C\n",
      "[--------------------]: (0.002 %)\t 투싼\n",
      "[--------------------]: (0.005 %)\t 티구안\n",
      "[--------------------]: (0.018 %)\t 티볼리\n",
      "[--------------------]: (0.015 %)\t 파사트\n",
      "[--------------------]: (0.002 %)\t 폭스바겐골프\n",
      "[--------------------]: (0.000 %)\t 현기차\n",
      "[--------------------]: (0.020 %)\t 현대자동차\n",
      "[--------------------]: (0.009 %)\t 현대차\n"
     ]
    }
   ],
   "source": [
    "show_df_distribution(subword = '악장')"
   ]
  },
  {
   "cell_type": "markdown",
   "metadata": {},
   "source": [
    "영화 '터미네이터4'의 부제는 '제네시스'입니다."
   ]
  },
  {
   "cell_type": "code",
   "execution_count": 84,
   "metadata": {},
   "outputs": [
    {
     "name": "stdout",
     "output_type": "stream",
     "text": [
      "Subword = 터미네이터\n",
      "[--------------------]: (0.022 %)\t A6\n",
      "[--------------------]: (0.051 %)\t BMW5\n",
      "[--------------------]: (0.038 %)\t BMW\n",
      "[--------------------]: (0.013 %)\t K3\n",
      "[--------------------]: (0.015 %)\t K5\n",
      "[--------------------]: (0.012 %)\t K7\n",
      "[--------------------]: (0.008 %)\t QM3\n",
      "[--------------------]: (0.011 %)\t 그랜저\n",
      "[--------------------]: (0.039 %)\t 벤츠E\n",
      "[--------------------]: (0.028 %)\t 산타페\n",
      "[--------------------]: (0.027 %)\t 소나타\n",
      "[--------------------]: (0.012 %)\t 스포티지\n",
      "[--------------------]: (0.011 %)\t 싼타페\n",
      "[--------------------]: (0.009 %)\t 쏘나타\n",
      "[--------------------]: (0.010 %)\t 쏘렌토\n",
      "[--------------------]: (0.011 %)\t 아반떼\n",
      "[--------------------]: (0.000 %)\t 아반테\n",
      "[####################]: (1.775 %)\t 제네시스\n",
      "[--------------------]: (0.008 %)\t 코란도C\n",
      "[--------------------]: (0.011 %)\t 투싼\n",
      "[--------------------]: (0.015 %)\t 티구안\n",
      "[--------------------]: (0.018 %)\t 티볼리\n",
      "[--------------------]: (0.000 %)\t 파사트\n",
      "[--------------------]: (0.008 %)\t 폭스바겐골프\n",
      "[--------------------]: (0.067 %)\t 현기차\n",
      "[--------------------]: (0.017 %)\t 현대자동차\n",
      "[--------------------]: (0.027 %)\t 현대차\n"
     ]
    }
   ],
   "source": [
    "show_df_distribution(subword = '터미네이터')"
   ]
  },
  {
   "cell_type": "markdown",
   "metadata": {},
   "source": [
    "코펜하겐에는 소설 '인어공주' 와 관련된 '티볼리' 공원이 있습니다. 이와 관련된 포스트도 상당히 많습니다."
   ]
  },
  {
   "cell_type": "code",
   "execution_count": 85,
   "metadata": {},
   "outputs": [
    {
     "name": "stdout",
     "output_type": "stream",
     "text": [
      "Subword = 인어공주\n",
      "[--------------------]: (0.019 %)\t A6\n",
      "[--------------------]: (0.035 %)\t BMW5\n",
      "[--------------------]: (0.030 %)\t BMW\n",
      "[--------------------]: (0.022 %)\t K3\n",
      "[--------------------]: (0.013 %)\t K5\n",
      "[--------------------]: (0.014 %)\t K7\n",
      "[--------------------]: (0.000 %)\t QM3\n",
      "[--------------------]: (0.006 %)\t 그랜저\n",
      "[--------------------]: (0.019 %)\t 벤츠E\n",
      "[--------------------]: (0.028 %)\t 산타페\n",
      "[##------------------]: (0.123 %)\t 소나타\n",
      "[--------------------]: (0.002 %)\t 스포티지\n",
      "[--------------------]: (0.003 %)\t 싼타페\n",
      "[--------------------]: (0.009 %)\t 쏘나타\n",
      "[--------------------]: (0.012 %)\t 쏘렌토\n",
      "[--------------------]: (0.007 %)\t 아반떼\n",
      "[--------------------]: (0.000 %)\t 아반테\n",
      "[--------------------]: (0.015 %)\t 제네시스\n",
      "[--------------------]: (0.000 %)\t 코란도C\n",
      "[--------------------]: (0.001 %)\t 투싼\n",
      "[--------------------]: (0.005 %)\t 티구안\n",
      "[####################]: (0.851 %)\t 티볼리\n",
      "[--------------------]: (0.010 %)\t 파사트\n",
      "[--------------------]: (0.006 %)\t 폭스바겐골프\n",
      "[--------------------]: (0.000 %)\t 현기차\n",
      "[--------------------]: (0.020 %)\t 현대자동차\n",
      "[--------------------]: (0.011 %)\t 현대차\n"
     ]
    }
   ],
   "source": [
    "show_df_distribution(subword = '인어공주')"
   ]
  },
  {
   "cell_type": "markdown",
   "metadata": {},
   "source": [
    "'엔진오일'은 자동차 용어이기 떄문에 모든 카테고리에서 비슷한 비율로 등장합니다."
   ]
  },
  {
   "cell_type": "code",
   "execution_count": 86,
   "metadata": {},
   "outputs": [
    {
     "name": "stdout",
     "output_type": "stream",
     "text": [
      "Subword = 엔진오일\n",
      "[###########---------]: (7.238 %)\t A6\n",
      "[############--------]: (7.482 %)\t BMW5\n",
      "[#######-------------]: (4.472 %)\t BMW\n",
      "[################----]: (10.050 %)\t K3\n",
      "[###############-----]: (9.150 %)\t K5\n",
      "[###############-----]: (9.414 %)\t K7\n",
      "[#######-------------]: (4.713 %)\t QM3\n",
      "[#############-------]: (8.464 %)\t 그랜저\n",
      "[################----]: (9.963 %)\t 벤츠E\n",
      "[########------------]: (5.414 %)\t 산타페\n",
      "[########------------]: (5.403 %)\t 소나타\n",
      "[###################-]: (11.675 %)\t 스포티지\n",
      "[###############-----]: (9.633 %)\t 싼타페\n",
      "[################----]: (9.750 %)\t 쏘나타\n",
      "[################----]: (10.221 %)\t 쏘렌토\n",
      "[##############------]: (8.681 %)\t 아반떼\n",
      "[#############-------]: (8.065 %)\t 아반테\n",
      "[############--------]: (7.305 %)\t 제네시스\n",
      "[####################]: (12.148 %)\t 코란도C\n",
      "[###################-]: (11.667 %)\t 투싼\n",
      "[#########-----------]: (5.770 %)\t 티구안\n",
      "[###-----------------]: (2.246 %)\t 티볼리\n",
      "[###############-----]: (9.183 %)\t 파사트\n",
      "[##############------]: (8.666 %)\t 폭스바겐골프\n",
      "[#######-------------]: (4.486 %)\t 현기차\n",
      "[####----------------]: (2.931 %)\t 현대자동차\n",
      "[##------------------]: (1.762 %)\t 현대차\n"
     ]
    }
   ],
   "source": [
    "show_df_distribution(subword = '엔진오일')"
   ]
  },
  {
   "cell_type": "markdown",
   "metadata": {},
   "source": [
    "'티볼리'는 루이비통의 제품 이름 중 하나입니다."
   ]
  },
  {
   "cell_type": "code",
   "execution_count": 87,
   "metadata": {},
   "outputs": [
    {
     "name": "stdout",
     "output_type": "stream",
     "text": [
      "Subword = 루이비통\n",
      "[#-------------------]: (0.182 %)\t A6\n",
      "[#-------------------]: (0.206 %)\t BMW5\n",
      "[#-------------------]: (0.265 %)\t BMW\n",
      "[--------------------]: (0.056 %)\t K3\n",
      "[--------------------]: (0.091 %)\t K5\n",
      "[--------------------]: (0.090 %)\t K7\n",
      "[--------------------]: (0.038 %)\t QM3\n",
      "[--------------------]: (0.055 %)\t 그랜저\n",
      "[--------------------]: (0.102 %)\t 벤츠E\n",
      "[--------------------]: (0.056 %)\t 산타페\n",
      "[--------------------]: (0.086 %)\t 소나타\n",
      "[--------------------]: (0.023 %)\t 스포티지\n",
      "[--------------------]: (0.010 %)\t 싼타페\n",
      "[--------------------]: (0.031 %)\t 쏘나타\n",
      "[--------------------]: (0.018 %)\t 쏘렌토\n",
      "[--------------------]: (0.076 %)\t 아반떼\n",
      "[--------------------]: (0.004 %)\t 아반테\n",
      "[--------------------]: (0.073 %)\t 제네시스\n",
      "[--------------------]: (0.006 %)\t 코란도C\n",
      "[--------------------]: (0.011 %)\t 투싼\n",
      "[--------------------]: (0.036 %)\t 티구안\n",
      "[####################]: (3.255 %)\t 티볼리\n",
      "[--------------------]: (0.030 %)\t 파사트\n",
      "[#-------------------]: (0.246 %)\t 폭스바겐골프\n",
      "[--------------------]: (0.067 %)\t 현기차\n",
      "[--------------------]: (0.111 %)\t 현대자동차\n",
      "[--------------------]: (0.115 %)\t 현대차\n"
     ]
    }
   ],
   "source": [
    "show_df_distribution(subword = '루이비통')"
   ]
  },
  {
   "cell_type": "code",
   "execution_count": null,
   "metadata": {},
   "outputs": [],
   "source": []
  }
 ],
 "metadata": {
  "kernelspec": {
   "display_name": "Python 3",
   "language": "python",
   "name": "python3"
  },
  "language_info": {
   "codemirror_mode": {
    "name": "ipython",
    "version": 3
   },
   "file_extension": ".py",
   "mimetype": "text/x-python",
   "name": "python",
   "nbconvert_exporter": "python",
   "pygments_lexer": "ipython3",
   "version": "3.7.1"
  }
 },
 "nbformat": 4,
 "nbformat_minor": 2
}
